{
 "cells": [
  {
   "cell_type": "code",
   "execution_count": 1,
   "metadata": {},
   "outputs": [
    {
     "name": "stdout",
     "output_type": "stream",
     "text": [
      "hello\n"
     ]
    }
   ],
   "source": [
    "# while True:\n",
    "#     try:\n",
    "#         while True:\n",
    "#             print (\"kncaja  kcb\")\n",
    "#     except:\n",
    "#         pass"
   ]
  },
  {
   "cell_type": "code",
   "execution_count": 2,
   "metadata": {},
   "outputs": [
    {
     "name": "stdout",
     "output_type": "stream",
     "text": [
      "32\n"
     ]
    }
   ],
   "source": [
    "print (ord(' '))"
   ]
  },
  {
   "cell_type": "code",
   "execution_count": 45,
   "metadata": {},
   "outputs": [
    {
     "name": "stdout",
     "output_type": "stream",
     "text": [
      "3.141592653589793\n"
     ]
    }
   ],
   "source": [
    "import random\n",
    "import math\n",
    "# random.randint(5,6)\n",
    "random.choice([1,2,3])\n",
    "print (math.pi)"
   ]
  },
  {
   "cell_type": "markdown",
   "metadata": {},
   "source": [
    "# List"
   ]
  },
  {
   "cell_type": "code",
   "execution_count": 73,
   "metadata": {},
   "outputs": [
    {
     "name": "stdout",
     "output_type": "stream",
     "text": [
      "[1, 2, 3, 4, 5, 6, 7]\n",
      "[1, 2, 3, 4, 5, 6, 'A']\n",
      "2\n",
      "[1, 2, 3, 4, 5, 6, 7, 1, 2, 3, 4, 5, 6, 'A']\n",
      "[1, 2, 3, 4, 5, 6, 7, 3333]\n",
      "[1, 2, 3, 4, 5, 6, 7, 3333, [1, 2, 3, 4, 5, 6, 'A']]\n"
     ]
    }
   ],
   "source": [
    "list1 = [1,2,3,4,5,6,7]\n",
    "print (list1)\n",
    "list2 = [1,2,3,4,5,6,'A']\n",
    "print (list2)\n",
    "list3 = [1,2,3,4,5,6,'A',[1,2]]\n",
    "print (list3[7][1])\n",
    "print (list1 + list2)\n",
    "# for var in list1 : \n",
    "#     print (var)\n",
    "# temp = list (range(7))\n",
    "# print(temp)\n",
    "\n",
    "# for element in range(len(temp)) : \n",
    "#     print (element)\n",
    "\n",
    "list1.append(3333)\n",
    "print (list1)\n",
    "list1.append (list2)\n",
    "print (list1)\n"
   ]
  },
  {
   "cell_type": "code",
   "execution_count": 6,
   "metadata": {},
   "outputs": [
    {
     "name": "stdout",
     "output_type": "stream",
     "text": [
      "[1, 3, 5, 6, 7, 22]\n",
      "[1, 3, 5, 6, 7]\n",
      "[1, 3, 6, 7]\n",
      "['Hello', 'i', 'am', 'ejaz']\n"
     ]
    }
   ],
   "source": [
    "list1 = [1,22,3,5,6,7]\n",
    "list1.sort()\n",
    "print (list1)\n",
    "list1.remove(22)\n",
    "print (list1)\n",
    "del list1[2]\n",
    "print (list1) \n",
    "\n",
    "list4 = ['a','s','d','f','f']\n",
    "tempStr = 'Hello i am ejaz'\n",
    "strList = tempStr.split(' ')\n",
    "print (strList)\n",
    "tempJoinList = \" \".join(list4)\n",
    "\n"
   ]
  },
  {
   "cell_type": "code",
   "execution_count": 22,
   "metadata": {},
   "outputs": [
    {
     "name": "stdout",
     "output_type": "stream",
     "text": [
      "[0, 1, 2, 100, 4, 5, 6, 7, 8, '19'] 3\n"
     ]
    }
   ],
   "source": [
    "demo_list = list(range(9))\n",
    "demo_list.append('19')\n",
    "demo_list.insert(3,100)\n",
    "value = demo_list.pop(4)\n",
    "print(demo_list,value)"
   ]
  },
  {
   "cell_type": "code",
   "execution_count": 28,
   "metadata": {},
   "outputs": [
    {
     "data": {
      "text/plain": [
       "[3.1, 3.14, 3.142, 3.1416, 3.14159]"
      ]
     },
     "execution_count": 28,
     "metadata": {},
     "output_type": "execute_result"
    }
   ],
   "source": [
    "from math import pi\n",
    "from collections import deque\n",
    "queue = deque()\n",
    "\n",
    "[round(pi, i) for i in range(1, 6)]\n"
   ]
  },
  {
   "cell_type": "code",
   "execution_count": 38,
   "metadata": {},
   "outputs": [
    {
     "name": "stdout",
     "output_type": "stream",
     "text": [
      "[[1, 5, 9], [2, 6, 10], [3, 7, 11], [4, 8, 12]]\n",
      "[[1, 2, 3, 4], [5, 6, 7, 8], [9, 10, 11, 12]]\n"
     ]
    }
   ],
   "source": [
    "matrix = [\n",
    "    [1, 2, 3, 4],\n",
    "    [5, 6, 7, 8],\n",
    "    [9, 10, 11, 12],\n",
    "]\n",
    "# [[element[i] for element in matrix] for i in range(4)]\n",
    "transposed = []\n",
    "for i in range(4):\n",
    "    transposed.append([row[i] for row in matrix])\n",
    "print(transposed)\n",
    "\n",
    "# del matrix\n",
    "print(matrix)\n",
    "\n",
    "# print(matrix)"
   ]
  },
  {
   "cell_type": "markdown",
   "metadata": {},
   "source": [
    "# function\n"
   ]
  },
  {
   "cell_type": "code",
   "execution_count": 96,
   "metadata": {},
   "outputs": [
    {
     "name": "stdout",
     "output_type": "stream",
     "text": [
      "['a', 'd', 'f', 'f']\n"
     ]
    }
   ],
   "source": [
    "def delete_value (tempList) : \n",
    "    tempList.remove ('s')\n",
    "delete_value(list4)\n",
    "print (list4)"
   ]
  },
  {
   "cell_type": "markdown",
   "metadata": {},
   "source": [
    "# Dict"
   ]
  },
  {
   "cell_type": "code",
   "execution_count": 115,
   "metadata": {},
   "outputs": [
    {
     "name": "stdout",
     "output_type": "stream",
     "text": [
      "{}\n",
      "{'1': 1, 2: 2}\n",
      "1\n"
     ]
    },
    {
     "data": {
      "text/plain": [
       "True"
      ]
     },
     "execution_count": 115,
     "metadata": {},
     "output_type": "execute_result"
    }
   ],
   "source": [
    "tempDict = dict()\n",
    "print (tempDict)\n",
    "\n",
    "tempDict = {'1':1,2:2}\n",
    "print (tempDict)\n",
    "\n",
    "print (tempDict['1'])\n",
    "2 in tempDict\n",
    "\n",
    "# temp_values = tempDict.values()\n",
    "# 2 in temp_values\n",
    "\n"
   ]
  },
  {
   "cell_type": "code",
   "execution_count": 118,
   "metadata": {},
   "outputs": [
    {
     "name": "stdout",
     "output_type": "stream",
     "text": [
      "{'a': 5, 's': 3, 'd': 3, 'f': 2, 'v': 6, 'z': 1, 'c': 1}\n"
     ]
    }
   ],
   "source": [
    "word = \"asdafavavavsdvfvsdzvc\"\n",
    "counter = dict()\n",
    "for c in word :\n",
    "    if c in counter :\n",
    "        counter[c] = counter[c]+1\n",
    "    else : \n",
    "        counter[c] = 1\n",
    "print (counter)"
   ]
  },
  {
   "cell_type": "code",
   "execution_count": 1,
   "metadata": {},
   "outputs": [
    {
     "name": "stdout",
     "output_type": "stream",
     "text": [
      "{}\n",
      "1 1\n",
      "2 2\n",
      "3 3\n",
      "['1', '2', '3']\n"
     ]
    }
   ],
   "source": [
    "tempDict = dict()\n",
    "print (tempDict)\n",
    "\n",
    "tempDict = {'3':3,'1':1,'2':2}\n",
    "\n",
    "lst = list (tempDict.keys())\n",
    "lst.sort()\n",
    "\n",
    "for l in lst :\n",
    "    print (l,tempDict[l])\n",
    "\n",
    "print (lst)\n",
    "\n",
    "\n",
    "\n",
    "# dir(tempDict)\n",
    "\n"
   ]
  },
  {
   "cell_type": "code",
   "execution_count": 3,
   "metadata": {},
   "outputs": [
    {
     "data": {
      "text/plain": [
       "'\"ArithmeticError\\n    # type: hello\\n    \\n'"
      ]
     },
     "execution_count": 3,
     "metadata": {},
     "output_type": "execute_result"
    }
   ],
   "source": [
    "\n",
    "\"\"\"\"ArithmeticError\n",
    "    # type: hello   \n",
    "\"\"\""
   ]
  },
  {
   "cell_type": "markdown",
   "metadata": {},
   "source": [
    "# Dict"
   ]
  },
  {
   "cell_type": "code",
   "execution_count": 5,
   "metadata": {},
   "outputs": [
    {
     "name": "stdout",
     "output_type": "stream",
     "text": [
      "Ejaz\n"
     ]
    }
   ],
   "source": [
    "dic1 = dict(name='Ejaz', roll='software engineer')\n",
    "print(dic1['name'])"
   ]
  },
  {
   "cell_type": "markdown",
   "metadata": {},
   "source": [
    "# String"
   ]
  },
  {
   "cell_type": "code",
   "execution_count": 62,
   "metadata": {},
   "outputs": [
    {
     "name": "stdout",
     "output_type": "stream",
     "text": [
      "bhai2\n"
     ]
    },
    {
     "data": {
      "text/plain": [
       "7"
      ]
     },
     "execution_count": 62,
     "metadata": {},
     "output_type": "execute_result"
    }
   ],
   "source": [
    "string  = 'EjazAhmadjaved'\n",
    "string2 = 'kamlajani'\n",
    "\n",
    "# print(string[:-2])\n",
    "string[1:-3:2]\n",
    "\n",
    "if string > string2: \n",
    "    print('hello1')\n",
    "else:\n",
    "    print(\"bhai2\")\n",
    "string.find('a',3)\n"
   ]
  },
  {
   "cell_type": "code",
   "execution_count": 85,
   "metadata": {},
   "outputs": [
    {
     "name": "stdout",
     "output_type": "stream",
     "text": [
      " ejaz.ahmad1\n"
     ]
    }
   ],
   "source": [
    "string = 'hello amy email adress is ejaz.ahmad1@arbisoft.com ha'\n",
    "atrate_address = string.find('@')\n",
    "space_after_atrate = string.find(' ',atrate_address)\n",
    "# print(string[atrate_address+1:space_after_atrate])\n",
    "value = string.rfind(' ', 0, atrate_address)\n",
    "print(string[value: atrate_address])\n"
   ]
  },
  {
   "cell_type": "markdown",
   "metadata": {},
   "source": [
    "# Tuple"
   ]
  },
  {
   "cell_type": "code",
   "execution_count": 131,
   "metadata": {},
   "outputs": [
    {
     "name": "stdout",
     "output_type": "stream",
     "text": [
      "5 200 3 5 \n",
      "\n",
      "5 200 3 5 \n",
      "\n",
      "5 200 3 5 \n",
      "\n"
     ]
    }
   ],
   "source": [
    "t1 = tuple()\n",
    "t2 = '1',\n",
    "t2 = (1,) + t2\n",
    "t3 = ((5,200,3,5),(5,200,3,5),(5,200,3,5))\n",
    "t4 = (5,200,3,4)\n",
    "# print(t3 < t4)\n",
    "\n",
    "for i,j,k,l in t3:\n",
    "    print(i,j,k,l ,'\\n')"
   ]
  },
  {
   "cell_type": "code",
   "execution_count": 152,
   "metadata": {},
   "outputs": [
    {
     "name": "stdout",
     "output_type": "stream",
     "text": [
      "(1, 1)\n",
      "(2, 10)\n",
      "(3, 10)\n",
      "(50, 10)\n",
      "2222\n",
      "2223\n",
      "2224\n"
     ]
    }
   ],
   "source": [
    "d1 = dict()\n",
    "d1 = {1:1,2:9,3:10,50:10,2:10}\n",
    "values = d1.items()\n",
    "for el in values:\n",
    "    print(el)\n",
    "    \n",
    "d2 = dict()\n",
    "d2['Ejaz','Ahmad'] = 2222\n",
    "d2['Ejaz2','Ahmad2'] = 2223\n",
    "d2['Ejaz3','Ahmad3'] = 2224\n",
    "\n",
    "for el1,el2 in d2:\n",
    "    print(d2[el1,el2])\n"
   ]
  },
  {
   "cell_type": "code",
   "execution_count": 4,
   "metadata": {},
   "outputs": [
    {
     "name": "stdout",
     "output_type": "stream",
     "text": [
      "{'Hans': 'active', '景太郎': 'active'}\n"
     ]
    }
   ],
   "source": [
    "users = {'Hans': 'active', 'Éléonore': 'inactive', '景太郎': 'active'}\n",
    "\n",
    "# Strategy:  Iterate over a copy\n",
    "for user, status in users.copy().items():\n",
    "    if status == 'inactive':\n",
    "        del users[user]\n",
    "print(users)"
   ]
  },
  {
   "cell_type": "code",
   "execution_count": 8,
   "metadata": {},
   "outputs": [
    {
     "name": "stdout",
     "output_type": "stream",
     "text": [
      "5 summer\n",
      "6 winter\n",
      "7 spring\n",
      "8 winter\n"
     ]
    }
   ],
   "source": [
    "season = ['summer', 'winter', 'spring', 'winter']\n",
    "lseason = list(enumerate(season,start=5))\n",
    "for el,name in lseason:\n",
    "    print(el,name)"
   ]
  },
  {
   "cell_type": "markdown",
   "metadata": {},
   "source": [
    "# Eval"
   ]
  },
  {
   "cell_type": "code",
   "execution_count": 8,
   "metadata": {},
   "outputs": [
    {
     "name": "stdout",
     "output_type": "stream",
     "text": [
      "range(0, 10)\n",
      "0\n"
     ]
    }
   ],
   "source": [
    "x = 10\n",
    "eval('x+1')\n",
    "# print(x)\n",
    "\n",
    "value = range(10)\n",
    "print(value)\n",
    "\n",
    "for num in range(10):\n",
    "    print(num**10)\n",
    "    break \n",
    "else:\n",
    "    print(\"kaisa ha bhai\")"
   ]
  },
  {
   "cell_type": "markdown",
   "metadata": {},
   "source": [
    "# Match Statement"
   ]
  },
  {
   "cell_type": "code",
   "execution_count": 13,
   "metadata": {},
   "outputs": [
    {
     "name": "stdout",
     "output_type": "stream",
     "text": [
      "hello bhai 1\n"
     ]
    }
   ],
   "source": [
    "# while True:\n",
    "#     pass\n",
    "\n",
    "value = 1\n",
    "match value:\n",
    "    case 1:\n",
    "        print(f'hello bhai {value}')\n",
    "    case 2:\n",
    "        print('hello bhai {value}')\n",
    "    case _:\n",
    "        print(\"none is coming\")\n",
    "\n",
    "        "
   ]
  },
  {
   "cell_type": "markdown",
   "metadata": {},
   "source": [
    "# functions"
   ]
  },
  {
   "cell_type": "code",
   "execution_count": 24,
   "metadata": {},
   "outputs": [
    {
     "name": "stdout",
     "output_type": "stream",
     "text": [
      "0 1 1 2 3 5 8 13 21 34 "
     ]
    }
   ],
   "source": [
    "def fib(n):\n",
    "    \"\"\"Print a fabonacci serieas till n.\"\"\"\n",
    "    a, b = 0, 1\n",
    "    for num in range(n):\n",
    "        print(a, end=' ')\n",
    "        a, b = b, a+b\n",
    "        \n",
    "\n",
    "fib(10)"
   ]
  },
  {
   "cell_type": "code",
   "execution_count": 76,
   "metadata": {},
   "outputs": [
    {
     "name": "stdout",
     "output_type": "stream",
     "text": [
      "1\n",
      "False\n",
      " Hello World \n",
      " Hello world\n"
     ]
    }
   ],
   "source": [
    "s = \" Hello world \"\n",
    "print(s.count('H'))\n",
    "print(s.startswith('h'))\n",
    "print(s.title())\n",
    "d = ' '.join(reversed(s))\n",
    "\n",
    "print(s.rstrip(' '))\n"
   ]
  },
  {
   "cell_type": "markdown",
   "metadata": {},
   "source": [
    "# String Formatting"
   ]
  },
  {
   "cell_type": "code",
   "execution_count": 86,
   "metadata": {},
   "outputs": [
    {
     "name": "stdout",
     "output_type": "stream",
     "text": [
      "Hello this is Ejaz. i am workin in kaisa  \n"
     ]
    }
   ],
   "source": [
    "s = \"Hello this is {0}. i am workin in {2} \"\n",
    "print(s.format('Ejaz','Arbisoft','kaisa '))"
   ]
  },
  {
   "cell_type": "markdown",
   "metadata": {},
   "source": [
    "# Class"
   ]
  },
  {
   "cell_type": "code",
   "execution_count": 50,
   "metadata": {},
   "outputs": [
    {
     "name": "stdout",
     "output_type": "stream",
     "text": [
      "kaisa ha bhai inside constructor\n",
      "temp sa pehla  70\n",
      "inside class\n",
      "temp ka baad  1000\n",
      "kaisa ha bhai inside constructor\n",
      "18 10\n"
     ]
    },
    {
     "data": {
      "text/plain": [
       "__main__.DemoClass"
      ]
     },
     "execution_count": 50,
     "metadata": {},
     "output_type": "execute_result"
    }
   ],
   "source": [
    "class DemoClass:\n",
    "\n",
    "    v1 = 10\n",
    "\n",
    "    def __init__(self, temp):\n",
    "        print('kaisa ha bhai inside constructor')\n",
    "        self.y = temp\n",
    "\n",
    "    def temp(self):\n",
    "        self.y = 1000\n",
    "        print('inside class')\n",
    "\n",
    "x = DemoClass(70)\n",
    "print('temp sa pehla ', x.y)\n",
    "x.temp()\n",
    "print('temp ka baad ', x.y)\n",
    "\n",
    "y = DemoClass(80)\n",
    "\n",
    "x.v1 = 18\n",
    "print(x.v1,y.v1)\n",
    "\n",
    "x.__class__\n",
    "\n"
   ]
  },
  {
   "cell_type": "markdown",
   "metadata": {},
   "source": [
    "# Inheritance"
   ]
  },
  {
   "cell_type": "code",
   "execution_count": 65,
   "metadata": {},
   "outputs": [
    {
     "name": "stdout",
     "output_type": "stream",
     "text": [
      "derived class  ctr \n",
      "derived class\n"
     ]
    }
   ],
   "source": [
    "class Base1:\n",
    "\n",
    "    def __init__(self):\n",
    "        print('base class 1 ctr ')\n",
    "\n",
    "    def func1(self):\n",
    "        print('base calss 1')\n",
    "\n",
    "\n",
    "class Base2:\n",
    "\n",
    "    def __init__(self):\n",
    "        print('base class 2 ctr ')\n",
    "\n",
    "    def func1(self):\n",
    "        print('base calss 2')\n",
    "\n",
    "\n",
    "class Base3:\n",
    "\n",
    "    def __init__(self):\n",
    "        print('base class 3 ctr ')\n",
    "\n",
    "    def func1(self):\n",
    "        print('base calss 3')\n",
    "\n",
    "class Derived(Base2,Base1,Base3):\n",
    "\n",
    "    def __init__(self):\n",
    "        print('derived class  ctr ')\n",
    "\n",
    "    def func1(self):\n",
    "        print('derived class')\n",
    "\n",
    "\n",
    "\n",
    "x = Derived()\n",
    "x.func1()\n"
   ]
  },
  {
   "cell_type": "code",
   "execution_count": 68,
   "metadata": {},
   "outputs": [
    {
     "name": "stdout",
     "output_type": "stream",
     "text": [
      "kamla\n"
     ]
    }
   ],
   "source": [
    "class Employee:\n",
    "    pass\n",
    "\n",
    "x = Employee\n",
    "x.name = 'jajji'\n",
    "x.sal = 100000\n",
    "\n",
    "\n",
    "y = Employee\n",
    "y.name = 'kamla'\n",
    "\n",
    "print(x.name)\n"
   ]
  },
  {
   "cell_type": "markdown",
   "metadata": {},
   "source": [
    "# Iterator Overridding"
   ]
  },
  {
   "cell_type": "code",
   "execution_count": 69,
   "metadata": {},
   "outputs": [
    {
     "name": "stdout",
     "output_type": "stream",
     "text": [
      "k\n",
      "a\n",
      "m\n",
      "l\n",
      "a\n"
     ]
    }
   ],
   "source": [
    "class Iter:\n",
    "    def __init__(self, word):\n",
    "        self.word = word\n",
    "        self.length = len(word)\n",
    "    \n",
    "    def __iter__(self):\n",
    "        return self.word\n",
    "    \n",
    "    def __next__(self):\n",
    "        if self.length == 0:\n",
    "            raise StopIteration\n",
    "        self.length = self.length-1\n",
    "        return self.word[self.length]\n",
    "\n",
    "\n",
    "x = iter('kamla')\n",
    "for el in x:\n",
    "    print(el)"
   ]
  },
  {
   "cell_type": "markdown",
   "metadata": {},
   "source": [
    "# Generator Function"
   ]
  },
  {
   "cell_type": "code",
   "execution_count": null,
   "metadata": {},
   "outputs": [],
   "source": []
  },
  {
   "cell_type": "code",
   "execution_count": 73,
   "metadata": {},
   "outputs": [
    {
     "name": "stdout",
     "output_type": "stream",
     "text": [
      "i\n",
      "n\n",
      "a\n",
      "j\n",
      " \n",
      "a\n",
      "l\n",
      "m\n",
      "a\n",
      "k\n"
     ]
    }
   ],
   "source": [
    "def reverse(value):\n",
    "    for index in range(0, len(value), +1):\n",
    "        yield value[index]\n",
    "\n",
    "for char in reverse('kamla jani'):\n",
    "    print(char)"
   ]
  }
 ],
 "metadata": {
  "kernelspec": {
   "display_name": "Python 3.10.5 64-bit",
   "language": "python",
   "name": "python3"
  },
  "language_info": {
   "codemirror_mode": {
    "name": "ipython",
    "version": 3
   },
   "file_extension": ".py",
   "mimetype": "text/x-python",
   "name": "python",
   "nbconvert_exporter": "python",
   "pygments_lexer": "ipython3",
   "version": "3.10.5"
  },
  "orig_nbformat": 4,
  "vscode": {
   "interpreter": {
    "hash": "aee8b7b246df8f9039afb4144a1f6fd8d2ca17a180786b69acc140d282b71a49"
   }
  }
 },
 "nbformat": 4,
 "nbformat_minor": 2
}
